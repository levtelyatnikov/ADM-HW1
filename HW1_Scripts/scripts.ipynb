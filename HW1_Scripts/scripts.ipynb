{
 "cells": [
  {
   "cell_type": "markdown",
   "metadata": {},
   "source": [
    "**Introduction**\n",
    "\n"
   ]
  },
  {
   "cell_type": "markdown",
   "metadata": {},
   "source": [
    "**1** Say \"Hello, World!\" With Python"
   ]
  },
  {
   "cell_type": "code",
   "execution_count": null,
   "metadata": {},
   "outputs": [],
   "source": [
    "print(\"Hello, World!\")"
   ]
  },
  {
   "cell_type": "markdown",
   "metadata": {},
   "source": [
    "**2** Python If-Else\n",
    "\n"
   ]
  },
  {
   "cell_type": "code",
   "execution_count": null,
   "metadata": {},
   "outputs": [],
   "source": [
    "if __name__ == '__main__':\n",
    "    n = int(input().strip())\n",
    "    if n % 2 == 1:\n",
    "        print(\"Weird\")\n",
    "    elif n % 2 == 0:\n",
    "        if n >= 2 and n <= 5:\n",
    "            print(\"Not Weird\")\n",
    "        elif n >= 6 and n <= 20:\n",
    "            print(\"Weird\")\n",
    "        else:\n",
    "            print(\"Not Weird\")"
   ]
  },
  {
   "cell_type": "markdown",
   "metadata": {},
   "source": [
    "**3** Arithmetic Operators"
   ]
  },
  {
   "cell_type": "code",
   "execution_count": null,
   "metadata": {},
   "outputs": [],
   "source": [
    "if __name__ == '__main__':\n",
    "    a = int(input())\n",
    "    b = int(input())\n",
    "    print(a + b)\n",
    "    print(a - b)\n",
    "    print(a * b)"
   ]
  },
  {
   "cell_type": "markdown",
   "metadata": {},
   "source": [
    "**4** Python: Division"
   ]
  },
  {
   "cell_type": "code",
   "execution_count": null,
   "metadata": {},
   "outputs": [],
   "source": [
    "if __name__ == '__main__':\n",
    "    a = int(input())\n",
    "    b = int(input())\n",
    "    print(a//b)\n",
    "    print(a/b)"
   ]
  },
  {
   "cell_type": "markdown",
   "metadata": {},
   "source": [
    "**5** Loops"
   ]
  },
  {
   "cell_type": "code",
   "execution_count": null,
   "metadata": {},
   "outputs": [],
   "source": [
    "if __name__ == '__main__':\n",
    "    n = int(input())\n",
    "    if n >= 0:\n",
    "        for i in range(1,n):\n",
    "            print(i**2)\n"
   ]
  },
  {
   "cell_type": "markdown",
   "metadata": {},
   "source": [
    "**6** Write a function"
   ]
  },
  {
   "cell_type": "code",
   "execution_count": null,
   "metadata": {},
   "outputs": [],
   "source": [
    "def is_leap(year):\n",
    "    if year % 4 == 0:\n",
    "        if year % 100 == 0 and year % 400 == 0:\n",
    "            leap = True\n",
    "            return leap\n",
    "        elif year % 100 == 0 and year % 400 != 0:\n",
    "            leap = False\n",
    "            return leap\n",
    "        leap = True\n",
    "        return leap\n",
    "    else:\n",
    "        leap = False\n",
    "        return leap\n",
    "\n",
    "year = int(input())\n",
    "print(is_leap(year))"
   ]
  },
  {
   "cell_type": "markdown",
   "metadata": {},
   "source": [
    "**7** Print Function"
   ]
  },
  {
   "cell_type": "code",
   "execution_count": null,
   "metadata": {},
   "outputs": [],
   "source": [
    "if __name__ == '__main__':\n",
    "    n = int(input())\n",
    "    s = \"\"\n",
    "    for i in range(1,n+1):\n",
    "        s += str(i)\n",
    "    print(s)\n"
   ]
  },
  {
   "cell_type": "markdown",
   "metadata": {},
   "source": [
    "I did it by mistake"
   ]
  },
  {
   "cell_type": "code",
   "execution_count": null,
   "metadata": {},
   "outputs": [],
   "source": [
    "# if __name__ == '__main__':\n",
    "#     n = int(input())\n",
    "#     print([i for i in range(n)])\n",
    "################################"
   ]
  },
  {
   "cell_type": "markdown",
   "metadata": {},
   "source": [
    "**Basic Data Types**"
   ]
  },
  {
   "cell_type": "markdown",
   "metadata": {},
   "source": [
    "**1** List Comprehensions\n",
    "\n"
   ]
  },
  {
   "cell_type": "code",
   "execution_count": null,
   "metadata": {},
   "outputs": [],
   "source": [
    "if __name__ == '__main__':\n",
    "    x = int(input())\n",
    "    y = int(input())\n",
    "    z = int(input())\n",
    "    n = int(input())\n",
    "print ([[i,j,k] for i in range(0,x+1) for j in range(0,y+1) for k in range(0,z+1) if i + j + k != n ])\n",
    "\n"
   ]
  },
  {
   "cell_type": "markdown",
   "metadata": {},
   "source": [
    "**2** Find the Runner-Up Score!"
   ]
  },
  {
   "cell_type": "code",
   "execution_count": null,
   "metadata": {},
   "outputs": [],
   "source": [
    "if __name__ == '__main__':\n",
    "    n = int(input())\n",
    "    arr = list(map(int, input().split()))\n",
    "    [arr.remove(max(arr))for i in range(arr.count(max(arr)))]\n",
    "    print(max(arr))"
   ]
  },
  {
   "cell_type": "markdown",
   "metadata": {},
   "source": [
    "**3** Finding the percentage\n",
    "\n"
   ]
  },
  {
   "cell_type": "code",
   "execution_count": null,
   "metadata": {},
   "outputs": [],
   "source": [
    "if __name__ == '__main__':\n",
    "    n = int(input())\n",
    "    student_marks = {}\n",
    "    for _ in range(n):\n",
    "        line = input().split()\n",
    "        name, scores = line[0], line[1:]\n",
    "        scores = list(map(float, scores))\n",
    "        student_marks[name] = scores\n",
    "    name = input()\n",
    "    print('{0:.2f}'.format(sum(student_marks[name])/len(student_marks[name])))\n",
    "\n",
    "    "
   ]
  },
  {
   "cell_type": "markdown",
   "metadata": {},
   "source": [
    "**4** Tuples\n"
   ]
  },
  {
   "cell_type": "code",
   "execution_count": null,
   "metadata": {},
   "outputs": [],
   "source": [
    "if __name__ == '__main__':\n",
    "    n = int(input())\n",
    "    integer_list = tuple(map(int, input().split()))\n",
    "    print(hash(integer_list))"
   ]
  },
  {
   "cell_type": "markdown",
   "metadata": {},
   "source": [
    "**5** Nested Lists"
   ]
  },
  {
   "cell_type": "code",
   "execution_count": null,
   "metadata": {},
   "outputs": [],
   "source": [
    "if __name__ == '__main__':\n",
    "    marksheet = []\n",
    "    score = []\n",
    "    for _ in range(int(input())):\n",
    "        a = input()\n",
    "        b = float(input())\n",
    "        marksheet.append([a, b])\n",
    "        score.append(b)\n",
    "    m = sorted(list(set(score)))[1]   #find the second minimum \n",
    "    for n,s in sorted(marksheet) : #alphavit order\n",
    "        if  s == m:\n",
    "            print(n)\n"
   ]
  },
  {
   "cell_type": "markdown",
   "metadata": {},
   "source": [
    "**6** Lists\n"
   ]
  },
  {
   "cell_type": "code",
   "execution_count": null,
   "metadata": {},
   "outputs": [],
   "source": [
    "N = int(input())\n",
    "l = []\n",
    "l_spl = []\n",
    "def command(l_spl_i,ll):\n",
    "    \n",
    "    if len(l_spl_i) == 3:\n",
    "        place = int(l_spl_i[1])\n",
    "        number = int(l_spl_i[2])\n",
    "        ll.insert(place, number)\n",
    "    if len(l_spl_i) == 1:\n",
    "        if l_spl_i[0] == \"print\":\n",
    "            print(ll)\n",
    "        elif l_spl_i[0] == \"sort\":\n",
    "            ll = sorted(ll)\n",
    "        elif l_spl_i[0] == \"pop\":\n",
    "            ll.pop()\n",
    "        elif l_spl_i[0] == \"reverse\":\n",
    "            ll.reverse()\n",
    " \n",
    "    if len(l_spl_i) == 2:\n",
    "        if l_spl_i[0] == \"remove\":\n",
    "            ll.remove(int(l_spl_i[1]))\n",
    "        elif l_spl_i[0] == \"append\":\n",
    "            ll.append(int(l_spl_i[1]))\n",
    "    return ll\n",
    "new_l = []\n",
    "for i in range(N):\n",
    "    l.append(input())\n",
    "    if len(l[i]) > 7:\n",
    "        l_spl.append(l[i].split(\" \"))\n",
    "    else:\n",
    "        l_spl.append([l[i]])\n",
    "for i in range(N):\n",
    "    new_l = command(l_spl[i],new_l)\n"
   ]
  },
  {
   "cell_type": "markdown",
   "metadata": {},
   "source": [
    "Did it by mistake"
   ]
  },
  {
   "cell_type": "code",
   "execution_count": null,
   "metadata": {},
   "outputs": [],
   "source": [
    "# from itertools import combinations\n",
    "# F = []\n",
    "# N = int(input())\n",
    "# L = input().split()\n",
    "# K = int(input())\n",
    "\n",
    "# C = list(combinations(L, K))\n",
    "# F.append([C[i] for i in range(len(C)) if \"a\" in C[i] ])\n",
    "# print(\"{0:.3}\".format(len(list(F[0]))/len(C)))\n",
    "#############################\n",
    "# from itertools import groupby\n",
    "# data =  (input())\n",
    "# print(*[(len(list(g)),int(i)) for i,g in groupby(data)])\n",
    "##############################  \n",
    "# from itertools import product\n",
    "# K,M = map(int,input().split())\n",
    "# lists = [list(map(int,input().split(\" \")))[1:] for i in range(K)]\n",
    "# elements = []\n",
    "# for i in range(len(lists)):\n",
    "#     elements += lists[i]\n",
    "# C = list(product(*lists))\n",
    "# stdout = 0\n",
    "# s_candidate = 0\n",
    "# for j in (C):\n",
    "#     s_candidate = sum(list(map(lambda x:x*x,j))) % M\n",
    "#     if s_candidate >= stdout:\n",
    "#         stdout = s_candidate\n",
    "# print(stdout)"
   ]
  },
  {
   "cell_type": "markdown",
   "metadata": {},
   "source": [
    "**Strings**"
   ]
  },
  {
   "cell_type": "markdown",
   "metadata": {},
   "source": [
    "**1** sWAP cASE"
   ]
  },
  {
   "cell_type": "code",
   "execution_count": null,
   "metadata": {},
   "outputs": [],
   "source": [
    "def swap_case(s):\n",
    "    return s.swapcase()"
   ]
  },
  {
   "cell_type": "markdown",
   "metadata": {},
   "source": [
    "**2** String Split and Join\n",
    "\n"
   ]
  },
  {
   "cell_type": "code",
   "execution_count": null,
   "metadata": {},
   "outputs": [],
   "source": [
    "def split_and_join(line):\n",
    "    return \"-\".join(line.split(\" \"))"
   ]
  },
  {
   "cell_type": "markdown",
   "metadata": {},
   "source": [
    "**3** What's Your Name?"
   ]
  },
  {
   "cell_type": "code",
   "execution_count": null,
   "metadata": {},
   "outputs": [],
   "source": [
    "def print_full_name(a, b):\n",
    "    print(\"Hello \" + a + \" \"+ b + \"! You just delved into python.\" )\n"
   ]
  },
  {
   "cell_type": "markdown",
   "metadata": {},
   "source": [
    "**4** Mutations\n",
    "\n"
   ]
  },
  {
   "cell_type": "code",
   "execution_count": null,
   "metadata": {},
   "outputs": [],
   "source": [
    "def mutate_string(string, position, character):\n",
    "    return string[:position] + character + string[position + 1:]\n"
   ]
  },
  {
   "cell_type": "markdown",
   "metadata": {},
   "source": [
    "**5** Find a string\n",
    "\n"
   ]
  },
  {
   "cell_type": "code",
   "execution_count": null,
   "metadata": {},
   "outputs": [],
   "source": [
    "def count_substring(string, sub_string):\n",
    "    n = 0\n",
    "    for i in range(len(string)):\n",
    "        if sub_string in string[i:i+len(sub_string)]:\n",
    "            n += 1\n",
    "    return n"
   ]
  },
  {
   "cell_type": "markdown",
   "metadata": {},
   "source": [
    "**6** String Validators\n",
    "\n"
   ]
  },
  {
   "cell_type": "code",
   "execution_count": null,
   "metadata": {},
   "outputs": [],
   "source": [
    "if __name__ == '__main__':\n",
    "    s = input()\n",
    "    print(any([i.isalnum() for i in s]))\n",
    "    print(any([i.isalpha() for i in s]))\n",
    "    print(any([i.isdigit() for i in s]))\n",
    "    print(any([i.islower() for i in s]))\n",
    "    print(any([i.isupper() for i in s]))\n"
   ]
  },
  {
   "cell_type": "markdown",
   "metadata": {},
   "source": [
    "**7** Text Alignment"
   ]
  },
  {
   "cell_type": "code",
   "execution_count": null,
   "metadata": {},
   "outputs": [],
   "source": [
    "#Replace all ______ with rjust, ljust or center. \n",
    "\n",
    "thickness = int(input()) #This must be an odd number\n",
    "c = 'H'\n",
    "\n",
    "#Top Cone\n",
    "for i in range(thickness):\n",
    "    print((c*i).rjust(thickness-1)+c+(c*i).ljust(thickness-1))\n",
    "\n",
    "#Top Pillars\n",
    "for i in range(thickness+1):\n",
    "    print((c*thickness).center(thickness*2)+(c*thickness).center(thickness*6))\n",
    "\n",
    "#Middle Belt\n",
    "for i in range((thickness+1)//2):\n",
    "    print((c*thickness*5).center(thickness*6))    \n",
    "\n",
    "#Bottom Pillars\n",
    "for i in range(thickness+1):\n",
    "    print((c*thickness).center(thickness*2)+(c*thickness).center(thickness*6))    \n",
    "\n",
    "#Bottom Cone\n",
    "for i in range(thickness):\n",
    "    print(((c*(thickness-i-1)).rjust(thickness)+c+(c*(thickness-i-1)).ljust(thickness)).rjust(thickness*6))\n",
    "\n"
   ]
  },
  {
   "cell_type": "markdown",
   "metadata": {},
   "source": [
    "**8** Text Wrap"
   ]
  },
  {
   "cell_type": "code",
   "execution_count": null,
   "metadata": {},
   "outputs": [],
   "source": [
    "import textwrap\n",
    "\n",
    "def wrap(string, max_width):\n",
    "    a = textwrap.wrap(string,max_width)\n",
    "    return \"\\n\".join(a)\n",
    "if __name__ == '__main__':\n",
    "    string, max_width = input(), int(input())\n",
    "    result = wrap(string, max_width)\n",
    "    print(result)\n",
    "\n"
   ]
  },
  {
   "cell_type": "markdown",
   "metadata": {},
   "source": [
    "**9** Designer Door Mat\n",
    "\n",
    "\n"
   ]
  },
  {
   "cell_type": "code",
   "execution_count": null,
   "metadata": {},
   "outputs": [],
   "source": [
    "n, m = map(int,input().split())\n",
    "pattern1 = [('.|.'*(2*i + 1)).center(m, '-') for i in range(n//2)] \n",
    "pattern2 = [('.|.'*(2*i + 1)).center(m, '-') for i in range(n//2-1,-1,-1)] # hard indx!\n",
    "print('\\n'.join(pattern1 + ['WELCOME'.center(m, '-')] + pattern2))\n",
    "\n",
    "\n",
    "\n",
    "\n",
    "\n"
   ]
  },
  {
   "cell_type": "markdown",
   "metadata": {},
   "source": [
    "**10** String Formatting"
   ]
  },
  {
   "cell_type": "code",
   "execution_count": null,
   "metadata": {},
   "outputs": [],
   "source": [
    "def print_formatted(number):\n",
    "    width = len(bin(number)[2:])\n",
    "    s = ''\n",
    "    for i in range(1,number+1):\n",
    "        oc,he,bi = oct(i)[2:],hex(i)[2:].upper(),bin(i)[2:]\n",
    "        \n",
    "\n",
    "        print((str(i).rjust(width) + oc.rjust(width+1) + he.rjust(width+1) + bi.rjust(width+1)))\n",
    "\n",
    "if __name__ == '__main__':\n",
    "    n = int(input())\n",
    "    print_formatted(n)"
   ]
  },
  {
   "cell_type": "markdown",
   "metadata": {},
   "source": [
    "**10** Alphabet Rangoli"
   ]
  },
  {
   "cell_type": "code",
   "execution_count": null,
   "metadata": {},
   "outputs": [],
   "source": [
    "def print_rangoli(size):\n",
    "    alpha = 'abcdefghijklmnopqrstuvwxyz'\n",
    "    L = []\n",
    "    for i in range(n):\n",
    "        s = \"-\".join(alpha[i:n])\n",
    "        L.append((s[::-1]+s[1:]).center(4*n-3, \"-\"))\n",
    "    print('\\n'.join(L[:0:-1]+L))\n",
    "if __name__ == '__main__':\n",
    "    n = int(input())\n",
    "    print_rangoli(n)\n",
    "    \n",
    "# One more solution     \n",
    "    \n",
    "def print_rangoli(size):\n",
    "    down_half = []\n",
    "    alpha = 'abcdefghijklmnopqrstuvwxyz'\n",
    "    s = \"-\".join(alpha[:n]) \n",
    "    mid = s[::-1]+s[1:]\n",
    "    for i in range(n):\n",
    "        down_half.append((str(mid[:round(len(mid)/2) + 1 - 2 * i] + mid[round(len(mid)/2) + 1 + i*2 :]).center(4*n-3, \"-\")))\n",
    "    print('\\n'.join(down_half[:0:-1]+down_half))"
   ]
  },
  {
   "cell_type": "markdown",
   "metadata": {},
   "source": [
    "**11** Capitalize!"
   ]
  },
  {
   "cell_type": "code",
   "execution_count": null,
   "metadata": {},
   "outputs": [],
   "source": [
    "def solve(s):\n",
    "    a = s.split(\" \")\n",
    "    \n",
    "    for i in range(len(a)):\n",
    "        a[i] = a[i].capitalize()\n",
    "    return \" \".join(a)"
   ]
  },
  {
   "cell_type": "markdown",
   "metadata": {},
   "source": [
    "**12** The Minion Game"
   ]
  },
  {
   "cell_type": "code",
   "execution_count": null,
   "metadata": {},
   "outputs": [],
   "source": [
    "string = input()\n",
    "\n",
    "alpha = 'AEIOU'\n",
    "str_l = len(string)\n",
    "kev = 0\n",
    "sty = 0\n",
    "for i in range(str_l):\n",
    "    if string[i] in alpha:\n",
    "        kev += str_l - i\n",
    "    else:\n",
    "        sty += str_l - i\n",
    "if kev > sty:\n",
    "    print('Kevin ',int(kev))\n",
    "elif kev < sty:\n",
    "    print('Stuart ',int(sty))\n",
    "else:\n",
    "    print('Draw')"
   ]
  },
  {
   "cell_type": "markdown",
   "metadata": {},
   "source": [
    "**13** Merge the Tools!\n"
   ]
  },
  {
   "cell_type": "code",
   "execution_count": null,
   "metadata": {},
   "outputs": [],
   "source": [
    "import textwrap as tw\n",
    "def merge_the_tools(string, k):\n",
    "    t=[]\n",
    "    l = 0\n",
    "    for item in string:\n",
    "        l += 1\n",
    "        if item not in t:\n",
    "            t.append(item)\n",
    "        if l == k:\n",
    "            print(''.join(t))\n",
    "            t=[]      #refresh the list for next item\n",
    "            l = 0\n",
    "        \n",
    "        "
   ]
  },
  {
   "cell_type": "code",
   "execution_count": null,
   "metadata": {},
   "outputs": [],
   "source": [
    "import textwrap as tw\n",
    "a = tw.wrap(\"AABCAAADA\", 3)\n",
    "res = []\n",
    "m = []\n",
    "for i in range(len(a)):\n",
    "    for j in range(len(a[i])):\n",
    "        try:\n",
    "            print(\"a\",a[i])\n",
    "            if a[i].count(a[i][j]) > 1:\n",
    "                m = a[i]\n",
    "                m  = list(m)\n",
    "                m.remove(a[i][j])\n",
    "                m = \"\".join(m)\n",
    "                a[i] = m\n",
    "                print(m)\n",
    "        except:\n",
    "            pass\n",
    "            \n",
    "    res.append(a[i])\n",
    "print(\"\\n\".join(res))"
   ]
  },
  {
   "cell_type": "markdown",
   "metadata": {},
   "source": [
    "**Sets**"
   ]
  },
  {
   "cell_type": "markdown",
   "metadata": {},
   "source": [
    "**1** Introduction to Sets\n"
   ]
  },
  {
   "cell_type": "code",
   "execution_count": null,
   "metadata": {},
   "outputs": [],
   "source": [
    "def average(array):\n",
    "    return round(sum(set(array))/len(set(array)),3)\n",
    "\n",
    "if __name__ == '__main__':\n",
    "    n = int(input())\n",
    "    arr = list(map(int, input().split()))\n",
    "    result = average(arr)\n",
    "    print(result)"
   ]
  },
  {
   "cell_type": "markdown",
   "metadata": {},
   "source": [
    "**2** No Idea!"
   ]
  },
  {
   "cell_type": "code",
   "execution_count": null,
   "metadata": {
    "scrolled": true
   },
   "outputs": [],
   "source": [
    "n,m = map(int,input().split(\" \"))\n",
    "a = (input().split(\" \"))  #groupby\n",
    "A = set(input().split(\" \"))\n",
    "B = set(input().split(\" \"))\n",
    "s = 0\n",
    "for k in a:\n",
    "    if k in A:\n",
    "        s += 1\n",
    "    elif k in B:\n",
    "        s -= 1\n",
    "print(s)\n"
   ]
  },
  {
   "cell_type": "markdown",
   "metadata": {},
   "source": [
    "**3** Symmetric Difference\n",
    "\n"
   ]
  },
  {
   "cell_type": "code",
   "execution_count": null,
   "metadata": {},
   "outputs": [],
   "source": [
    "n = int( input() )\n",
    "A = set( input().split(\" \") )\n",
    "m = int( input() )\n",
    "B = set( input().split(\" \") )\n",
    "a1 = A - B\n",
    "a2 = B - A\n",
    "a = sorted(map(int,list(a1) + list(a2)))\n",
    "for i in a:\n",
    "    print(i)\n"
   ]
  },
  {
   "cell_type": "markdown",
   "metadata": {},
   "source": [
    "**4** Set .add()"
   ]
  },
  {
   "cell_type": "code",
   "execution_count": null,
   "metadata": {},
   "outputs": [],
   "source": [
    "n = int(input())\n",
    "stamps = []\n",
    "for i in range(n):\n",
    "    stamps.append(str(input()))\n",
    "print(len(set(stamps)))\n"
   ]
  },
  {
   "cell_type": "markdown",
   "metadata": {},
   "source": [
    "**5** Set .discard(), .remove() & .pop()\n",
    "\n"
   ]
  },
  {
   "cell_type": "code",
   "execution_count": null,
   "metadata": {},
   "outputs": [],
   "source": [
    "n = int(input())\n",
    "s = set(map(int, input().split()))\n",
    "N = int(input())\n",
    "commands = []\n",
    "for i in range(N):\n",
    "    commands.append(str(input()).split(\" \"))\n",
    "for i in range(N):\n",
    "    if commands[i] != [\"pop\"]:\n",
    "        eval(\"s.{0}({1})\".format(commands[i][0],commands[i][1]))\n",
    "    elif commands[i] == [\"pop\"]:\n",
    "        eval(\"s.{0}()\".format(commands[i][0]))\n",
    "print(sum(s))"
   ]
  },
  {
   "cell_type": "markdown",
   "metadata": {},
   "source": [
    "**6** Set .union() Operation"
   ]
  },
  {
   "cell_type": "code",
   "execution_count": null,
   "metadata": {},
   "outputs": [],
   "source": [
    "n = input()\n",
    "A = set(input().split())\n",
    "m = input() \n",
    "B = set(input().split())\n",
    "print(len(A.union(B)))"
   ]
  },
  {
   "cell_type": "markdown",
   "metadata": {},
   "source": [
    "**7** Set .intersection() Operation\n",
    "\n"
   ]
  },
  {
   "cell_type": "code",
   "execution_count": null,
   "metadata": {},
   "outputs": [],
   "source": [
    "n = input()\n",
    "A = set(input().split())\n",
    "m = input() \n",
    "B = set(input().split())\n",
    "print(len(A.intersection(B)))"
   ]
  },
  {
   "cell_type": "markdown",
   "metadata": {},
   "source": [
    "**8** Set .difference() Operation"
   ]
  },
  {
   "cell_type": "code",
   "execution_count": null,
   "metadata": {},
   "outputs": [],
   "source": [
    "n = input()\n",
    "A = set(input().split())\n",
    "m = input() \n",
    "B = set(input().split())\n",
    "print(len(A-B))"
   ]
  },
  {
   "cell_type": "markdown",
   "metadata": {},
   "source": [
    "**9** Set .symmetric_difference() Operation"
   ]
  },
  {
   "cell_type": "code",
   "execution_count": null,
   "metadata": {},
   "outputs": [],
   "source": [
    "n = input()\n",
    "A = set(input().split())\n",
    "m = input() \n",
    "B = set(input().split())\n",
    "print(len(A.symmetric_difference(B)))"
   ]
  },
  {
   "cell_type": "markdown",
   "metadata": {},
   "source": [
    "**10** Set Mutations"
   ]
  },
  {
   "cell_type": "code",
   "execution_count": null,
   "metadata": {},
   "outputs": [],
   "source": [
    "# n = input()\n",
    "# A = set(input().split())\n",
    "# for i in range(int(input())):\n",
    "#     command = input().split()[0]\n",
    "#     S = set(map(int, input().split()))\n",
    "#     eval(\"A.{0}({1})\".format(command ,S))\n",
    "#     print(sum(A))\n",
    "# print(sum(A))\n",
    "n = input()\n",
    "a = set(map(int, input().split()))\n",
    "for i in range(int(input())):\n",
    "    command = input().split()[0]\n",
    "    new_set = set(map(int, input().split()))\n",
    "    if command == 'intersection_update':\n",
    "        a.intersection_update(new_set)\n",
    "    if command == 'update':\n",
    "        a.update(new_set)\n",
    "    if command == 'symmetric_difference_update':\n",
    "        a.symmetric_difference_update(new_set)\n",
    "    if command == 'difference_update':\n",
    "        a.difference_update(new_set)\n",
    "    print(sum(a))\n",
    "print(sum(a))"
   ]
  },
  {
   "cell_type": "markdown",
   "metadata": {},
   "source": [
    "**11** The Captain's Room"
   ]
  },
  {
   "cell_type": "code",
   "execution_count": null,
   "metadata": {},
   "outputs": [],
   "source": [
    "n = int(input())\n",
    "s = list(map(int,input().split()))\n",
    "A = set()\n",
    "B = set()\n",
    "for i in s:\n",
    "        if i not in A:\n",
    "                A.add(i)\n",
    "        else:\n",
    "                B.add(i)\n",
    "print(list(A.difference(B))[0])\n",
    "    \n",
    "    "
   ]
  },
  {
   "cell_type": "markdown",
   "metadata": {},
   "source": [
    "**12** Check Subset"
   ]
  },
  {
   "cell_type": "code",
   "execution_count": null,
   "metadata": {},
   "outputs": [],
   "source": [
    "t= int(input())\n",
    "for i in range(t):\n",
    "    len_A = int(input())\n",
    "    A = set(input().split())\n",
    "    len_B = input()\n",
    "    B = set(input().split())\n",
    "    if len(A.intersection(B)) == len_A:\n",
    "        print(True)\n",
    "    else:\n",
    "        print(False)"
   ]
  },
  {
   "cell_type": "markdown",
   "metadata": {},
   "source": [
    "**13** Check Strict Superset"
   ]
  },
  {
   "cell_type": "code",
   "execution_count": null,
   "metadata": {},
   "outputs": [],
   "source": [
    "A = set(input().split())\n",
    "t= int(input())\n",
    "flag = 0\n",
    "for i in range(t):\n",
    "    B = set(input().split())\n",
    "    if len(B) == len(A.intersection(B)) and  len(A.intersection(B)) != 0 and len(A) > len(A.intersection(B)):\n",
    "        flag += 1\n",
    "if flag == t:\n",
    "    print(True)\n",
    "else:\n",
    "    print(False)\n",
    "    "
   ]
  },
  {
   "cell_type": "markdown",
   "metadata": {},
   "source": [
    "**Collections challenges**"
   ]
  },
  {
   "cell_type": "markdown",
   "metadata": {},
   "source": [
    "**1** collections.Counter()"
   ]
  },
  {
   "cell_type": "code",
   "execution_count": null,
   "metadata": {},
   "outputs": [],
   "source": [
    "from collections import Counter\n",
    "_ = input()\n",
    "s = list(map(int,input().split()))\n",
    "shoe_scatter = Counter(s)\n",
    "n = int(input())\n",
    "S = 0\n",
    "for i in range(n):\n",
    "    size, money = map(int, input().split())\n",
    "    if shoe_scatter[size]:# dont try to do == True\n",
    "        # shoe_scatter[size] = 0 . then I will get (if shoe_scatter[size]) == False!\n",
    "        S += money\n",
    "        shoe_scatter[size] -= 1\n",
    "print(S)"
   ]
  },
  {
   "cell_type": "markdown",
   "metadata": {},
   "source": [
    "**2** DefaultDict Tutorial"
   ]
  },
  {
   "cell_type": "code",
   "execution_count": null,
   "metadata": {},
   "outputs": [],
   "source": [
    "from collections import defaultdict\n",
    "d = defaultdict(list)\n",
    "n,m = map(int,input().split())\n",
    "names = []\n",
    "for i in range(n):\n",
    "    d[input()].append(i+1) \n",
    "for i in range(m):\n",
    "    names.append(str(input()))\n",
    "for i in names: \n",
    "    if i in d:\n",
    "        print (\" \".join( map(str,d[i]) ))\n",
    "    else:\n",
    "        print( -1)\n"
   ]
  },
  {
   "cell_type": "markdown",
   "metadata": {},
   "source": [
    "**3** Collections.namedtuple()"
   ]
  },
  {
   "cell_type": "code",
   "execution_count": null,
   "metadata": {},
   "outputs": [],
   "source": [
    "from collections import namedtuple\n",
    "n = int(input())\n",
    "\n",
    "spread_sheet = namedtuple('spread_sheet', input().split() )\n",
    "L = [int(spread_sheet(*input().split()).MARKS) for _ in range(n)]\n",
    "print((sum(L) / len(L)))"
   ]
  },
  {
   "cell_type": "markdown",
   "metadata": {},
   "source": [
    "**4** Collections.OrderedDict()"
   ]
  },
  {
   "cell_type": "code",
   "execution_count": null,
   "metadata": {},
   "outputs": [],
   "source": [
    "from collections import OrderedDict\n",
    "n = int(input())\n",
    "ordered_dictionary = OrderedDict()\n",
    "s = {}\n",
    "for i in range(n):\n",
    "    a = input().rpartition(\" \")\n",
    "    c,b = a[0],a[2]\n",
    "    #ordered_dictionary[c] = ordered_dictionary.get(c,0) + int(b) #get : Return the value for key if key is in the dictionary, else default\n",
    "    ordered_dictionary[c] = int(b) + ordered_dictionary[c] if c in ordered_dictionary.keys() else int(b)\n",
    "for i,j in zip(ordered_dictionary.keys(),ordered_dictionary.values()):\n",
    "    print(i,j)\n",
    "\n",
    "    \n",
    "#SECOND SoLuTiOn:\n",
    "from collections import defaultdict\n",
    "d = defaultdict(int)\n",
    "n = int(input())\n",
    "for i in range(n):\n",
    "    a = input().rpartition(\" \")\n",
    "    c,b = a[0],a[2]\n",
    "    d[c] += int(b)\n",
    "for i,j in zip(d.keys(),d.values()):\n",
    "    print(i,j)"
   ]
  },
  {
   "cell_type": "markdown",
   "metadata": {},
   "source": [
    "**5** Collections.deque()"
   ]
  },
  {
   "cell_type": "code",
   "execution_count": null,
   "metadata": {},
   "outputs": [],
   "source": [
    "from collections import deque\n",
    "d = deque()\n",
    "for i in range(int(input())):\n",
    "    a = input().split()\n",
    "    if len(a) == 2:\n",
    "        eval(\"d.{0}({1})\".format(a[0],a[1]))\n",
    "    else:\n",
    "        eval(\"d.{0}()\".format(a[0]))\n",
    "print(*d)\n",
    "#SECOND SoLuTiOn\n",
    "from collections import deque\n",
    "d = deque()\n",
    "for _ in range(int(input())):\n",
    "    a = input().split()\n",
    "    getattr(d, a[0])(*[a[1]] if len(a) > 1 else [])\n",
    "print(*d)"
   ]
  },
  {
   "cell_type": "markdown",
   "metadata": {},
   "source": [
    "**6** Word Order"
   ]
  },
  {
   "cell_type": "code",
   "execution_count": null,
   "metadata": {},
   "outputs": [],
   "source": [
    "from collections import OrderedDict\n",
    "ordered_dictionary = OrderedDict()\n",
    "n = int(input())\n",
    "for i in range(n):\n",
    "    c = input()\n",
    "    ordered_dictionary[c] = ordered_dictionary.get(c,0) + 1\n",
    "print(len(ordered_dictionary.keys()))\n",
    "print(*ordered_dictionary.values())"
   ]
  },
  {
   "cell_type": "markdown",
   "metadata": {},
   "source": [
    "**7** Company Logo"
   ]
  },
  {
   "cell_type": "code",
   "execution_count": null,
   "metadata": {},
   "outputs": [],
   "source": [
    "from collections import OrderedDict, Counter\n",
    "od = OrderedDict()\n",
    "inp = sorted(str(input()))\n",
    "cnt = Counter(inp)\n",
    "od = OrderedDict(cnt.most_common(3))\n",
    "k = 0\n",
    "for i,k in od.items():\n",
    "    print(i,k)"
   ]
  },
  {
   "cell_type": "markdown",
   "metadata": {},
   "source": [
    "**8** Piling Up!"
   ]
  },
  {
   "cell_type": "code",
   "execution_count": null,
   "metadata": {},
   "outputs": [],
   "source": [
    "from collections import deque\n",
    "\n",
    "for _ in range(int(input())):  \n",
    "    _ = input()\n",
    "    d = deque(list(map(int, input().split())))\n",
    "    k = 0\n",
    "    for i in reversed(sorted(d)):\n",
    "        if d[-1] == i: \n",
    "            d.pop()\n",
    "            k += 1\n",
    "        elif d[0] == i: \n",
    "            d.popleft()\n",
    "            k += 1\n",
    "        else:\n",
    "            k = 0\n",
    "            print('No')\n",
    "            break\n",
    "    if k != 0: \n",
    "        print('Yes')\n",
    "\n",
    "\n",
    "\n",
    "#####Second Solution\n",
    "\n",
    "from collections import deque\n",
    "for i in range(int(input())):\n",
    "    l = int(input())\n",
    "    st =input().split()\n",
    "    d = deque(st)\n",
    "    s = 0\n",
    "    \n",
    "    for j in range(l//2):\n",
    "#         left = int(d.popleft())\n",
    "#         right = int(d.pop())\n",
    "\n",
    "        if d[j] == d[-j - 1] and d[j + 1] =< d[ j ] or d[j] >= d[-j - 1]:\n",
    "            s += 1\n",
    "    if s == l//2:\n",
    "        print(\"Yes\")\n",
    "    else:\n",
    "        print(\"No\")\n",
    "\n",
    "### Second Solution\n",
    "for t in range(int(input())):\n",
    "    l = int(input())\n",
    "    d = list(map(int, input().split()))\n",
    "    k = 0\n",
    "    for i in range(l-1):\n",
    "        if d[i] >= d[i+1] and i < l//2:\n",
    "            k += 1\n",
    "        elif d[i] <= d[i+1] and i >= l//2:\n",
    "            k += 1\n",
    "    if l-1 == k:\n",
    "        print(\"Yes\")\n",
    "    else:\n",
    "        print(\"No\")"
   ]
  },
  {
   "cell_type": "markdown",
   "metadata": {},
   "source": [
    "**Date and time**"
   ]
  },
  {
   "cell_type": "markdown",
   "metadata": {},
   "source": [
    "**1** Calendar Module"
   ]
  },
  {
   "cell_type": "code",
   "execution_count": null,
   "metadata": {},
   "outputs": [],
   "source": [
    "import calendar\n",
    "i  = list(map(int,input().split()))\n",
    "day = calendar.weekday(i[2], i[0], i[1])\n",
    "print (calendar.day_name[day].upper())"
   ]
  },
  {
   "cell_type": "markdown",
   "metadata": {},
   "source": [
    "**2** Time Delta\n",
    "\n"
   ]
  },
  {
   "cell_type": "code",
   "execution_count": null,
   "metadata": {},
   "outputs": [],
   "source": [
    "# to create the right str format: https://www.programiz.com/python-programming/datetime/strptime\n",
    "from datetime import datetime\n",
    "\n",
    "\n",
    "form = '%a %d %b %Y %H:%M:%S %z'\n",
    "for i in range( int(input()) ):\n",
    "    print(int(abs((datetime.strptime(input(),form) - datetime.strptime(input(),form)).total_seconds())))\n",
    "    \n",
    "#Try again to do it throw calendar"
   ]
  },
  {
   "cell_type": "markdown",
   "metadata": {},
   "source": [
    "**Exceptions**"
   ]
  },
  {
   "cell_type": "markdown",
   "metadata": {},
   "source": [
    "**1** Exceptions\n",
    "\n"
   ]
  },
  {
   "cell_type": "code",
   "execution_count": null,
   "metadata": {},
   "outputs": [],
   "source": [
    "n = int(input())\n",
    "for i in range(n):\n",
    "    try:\n",
    "        a,b = map(int,input().split())\n",
    "        try:\n",
    "            print (int(a//b))\n",
    "        except ZeroDivisionError as e:\n",
    "            print (\"Error Code:\",e)\n",
    "    except ValueError as e:\n",
    "        print (\"Error Code:\",e)\n",
    "    \n",
    "    "
   ]
  },
  {
   "cell_type": "markdown",
   "metadata": {},
   "source": [
    "**Built-ins**"
   ]
  },
  {
   "cell_type": "markdown",
   "metadata": {},
   "source": [
    "**1** Zipped!"
   ]
  },
  {
   "cell_type": "code",
   "execution_count": null,
   "metadata": {},
   "outputs": [],
   "source": [
    "n,m = map(int,input().split())\n",
    "a = []\n",
    "def mean(a):\n",
    "    return str(sum(a)/len(a))\n",
    "for i in range(m):\n",
    "    a.append(list(map(float,input().split())))\n",
    "print(\"\\n\".join(list(map(mean,zip(*a)))))    "
   ]
  },
  {
   "cell_type": "markdown",
   "metadata": {},
   "source": [
    "**2** Athlete Sort "
   ]
  },
  {
   "cell_type": "code",
   "execution_count": null,
   "metadata": {},
   "outputs": [],
   "source": [
    "from operator import itemgetter\n",
    "n,_ = map(int,input().split())\n",
    "l = []\n",
    "for i in range(n):\n",
    "    l.append(tuple(map(int,input().split())))\n",
    "b = sorted(l,key=itemgetter(int(input())))\n",
    "for i in b:\n",
    "    print(*list(i))\n",
    "    \n",
    "    \n",
    "#### Second SOLUTION\n",
    "from operator import itemgetter\n",
    "n,_ = map(int,input().split())\n",
    "l = [list(map(int,input().split())) for _ in range(n)]\n",
    "for i in sorted(l, key=itemgetter(int(input()))): # it is not neccessary to sort tupels because i can sort lists\n",
    "    print(*i)\n",
    "    \n",
    "    \n"
   ]
  },
  {
   "cell_type": "markdown",
   "metadata": {},
   "source": [
    "**3** ginortS"
   ]
  },
  {
   "cell_type": "code",
   "execution_count": null,
   "metadata": {},
   "outputs": [],
   "source": [
    "a = input()\n",
    "lower,upper,digit = \"\".join([i for i in a if i.islower()]), \"\".join([i for i in a if i.isupper()]), [int(i) for i in a if i.isdigit()]\n",
    "even, odd = [i for i in digit if i%2 == 0], [i for i in digit if i%2]\n",
    "print(\"\".join(sorted(lower)) + \"\".join(sorted(upper)) + \"\".join(map(str,sorted(odd))) + \"\".join(map(str,sorted(even))))"
   ]
  },
  {
   "cell_type": "markdown",
   "metadata": {},
   "source": [
    "Did it by mistake"
   ]
  },
  {
   "cell_type": "code",
   "execution_count": null,
   "metadata": {},
   "outputs": [],
   "source": [
    "# a,b = map(int,input().split())\n",
    "# s = input().strip()\n",
    "# x = a\n",
    "# print(\"True\" if eval(s) == b else \"False\")\n",
    "# #########################################\n",
    "# eval(input())\n",
    "# #######################################\n",
    "# _ = input()\n",
    "# a = map(int,input().split())\n",
    "# print(all(i>0 for i in a) & any(str(i) == str(i)[::-1] for i in a))"
   ]
  },
  {
   "cell_type": "markdown",
   "metadata": {},
   "source": [
    "**Python Functionals**"
   ]
  },
  {
   "cell_type": "markdown",
   "metadata": {},
   "source": [
    "**1** Map and Lambda Function"
   ]
  },
  {
   "cell_type": "code",
   "execution_count": null,
   "metadata": {},
   "outputs": [],
   "source": [
    "count = int(input())\n",
    "def fibonacci(count): \n",
    "    a = [0, 1] \n",
    "    \n",
    "    any(map(lambda _: a.append(sum(a[-2:])),            # any uses to do  list if i dont use any the list a will not change\n",
    "  \n",
    "                                         range(2, count))) \n",
    "  \n",
    "    return a[:count] \n",
    "f = fibonacci(count)\n",
    "print(list(map(lambda x: x**3,f)))\n",
    "\n",
    "###Second solution\n",
    "def fibonacci(count): \n",
    "    a = [0, 1] \n",
    "    any(map(lambda _: a.append(sum(a[-2:])), range(2, count)))\n",
    "    return a[:count] \n",
    "cube = lambda x : x**3\n",
    "if __name__ == '__main__':\n",
    "    n = int(input())\n",
    "    print(list(map(cube, fibonacci(n))))"
   ]
  },
  {
   "cell_type": "markdown",
   "metadata": {},
   "source": [
    "**Regex and Parsing challenges**"
   ]
  },
  {
   "cell_type": "markdown",
   "metadata": {},
   "source": [
    "**1** Detect Floating Point Number\n"
   ]
  },
  {
   "cell_type": "code",
   "execution_count": null,
   "metadata": {},
   "outputs": [],
   "source": [
    "n = int(input())\n",
    "for i in range(n):\n",
    "    digit = input()\n",
    "    try:\n",
    "        if float(digit) and float(digit) != 0:\n",
    "            print(True)\n",
    "        else :\n",
    "            print(False)\n",
    "    except:\n",
    "        print(False)"
   ]
  },
  {
   "cell_type": "markdown",
   "metadata": {},
   "source": [
    "**2** Re.split()\n",
    "\n",
    "\n"
   ]
  },
  {
   "cell_type": "code",
   "execution_count": null,
   "metadata": {},
   "outputs": [],
   "source": [
    "regex_pattern = r\"[,.]\"\n",
    "\n",
    "import re\n",
    "print(\"\\n\".join(re.split(regex_pattern, input())))"
   ]
  },
  {
   "cell_type": "markdown",
   "metadata": {},
   "source": [
    "**3** Group(), Groups() & Groupdict()"
   ]
  },
  {
   "cell_type": "code",
   "execution_count": null,
   "metadata": {},
   "outputs": [],
   "source": [
    "import re\n",
    "m = re.search(r'([a-zA-Z0-9])\\1+',str(input()) ) # re.search need to use when we need to find the first substring  in the string\n",
    "print(m.group(1) if m else -1)"
   ]
  },
  {
   "cell_type": "markdown",
   "metadata": {},
   "source": [
    "**4** Re.findall() & Re.finditer()"
   ]
  },
  {
   "cell_type": "code",
   "execution_count": null,
   "metadata": {},
   "outputs": [],
   "source": [
    "# https://docs.python.org/2/library/re.html - to find explanation of ?<= and ?=\n",
    "match = re.findall(r'(?<=[bcdfghjklmnpqrstvwxz])([aeiouAEIOU]{2,})(?=[bcdfghjklmnpqrstvwxz])',input())\n",
    "print(\"\\n\".join([i for i in match]) if len(match) > 0 else -1)\n"
   ]
  },
  {
   "cell_type": "markdown",
   "metadata": {},
   "source": [
    "**5** Re.start() & Re.end()"
   ]
  },
  {
   "cell_type": "code",
   "execution_count": null,
   "metadata": {},
   "outputs": [],
   "source": [
    "import re\n",
    "s = input()\n",
    "sub = input()\n",
    "start = 0\n",
    "if re.search(r\"\" + sub + \"\",s) == None: # if nonr print (-1,-1)\n",
    "    print((-1,-1))\n",
    "while len(s) - start >= len(sub) :\n",
    "    m = re.search(r'('+ sub + ')',s[start:start + len(sub)])  #find a sub in slice\n",
    "    try:\n",
    "        print((start + m.start(),start + m.end() - 1))\n",
    "    except:\n",
    "        pass\n",
    "    start += 1   # \"change the slice\"\n",
    "\n",
    "    \n"
   ]
  },
  {
   "cell_type": "markdown",
   "metadata": {},
   "source": [
    "**6** Regex Substitution"
   ]
  },
  {
   "cell_type": "code",
   "execution_count": null,
   "metadata": {},
   "outputs": [],
   "source": [
    "import re\n",
    "n = int(input())\n",
    "for i in range(n):\n",
    "    s = input()\n",
    "    for i in range(len(re.findall(r'\\s\\&\\&',s))):\n",
    "        s = re.sub(r\"\\s\\&\\&\\s\", \" and \", s )\n",
    "    for i in range(len(re.findall(r\"\\s\\|\\|\",s))):\n",
    "        s = re.sub(r\"\\s\\|\\|\\s\", \" or \", s )\n",
    "    print(s)"
   ]
  },
  {
   "cell_type": "markdown",
   "metadata": {},
   "source": [
    "**7** Validating Roman Numerals"
   ]
  },
  {
   "cell_type": "code",
   "execution_count": null,
   "metadata": {},
   "outputs": [],
   "source": [
    "import re\n",
    "\n",
    "thousand = 'M{0,3}'\n",
    "hundred = '(C[MD]|D?C{0,3})'\n",
    "ten = '(X[CL]|L?X{0,3})'\n",
    "digit = '(I[VX]|V?I{0,3})'\n",
    "regex_pattern = r\"%s%s%s%s$\" % (thousand, hundred, ten, digit) \n",
    "import re\n",
    "print(str(bool(re.match(regex_pattern, input()))))"
   ]
  },
  {
   "cell_type": "markdown",
   "metadata": {},
   "source": [
    "**8** Validating phone numbers\n",
    "\n"
   ]
  },
  {
   "cell_type": "code",
   "execution_count": null,
   "metadata": {},
   "outputs": [],
   "source": [
    "import re\n",
    "n = int(input())\n",
    "for i in range(n):\n",
    "    print(\"YES\" if bool(re.match(r\"[789]{1}\\d{9}$\",input())) else \"NO\")"
   ]
  },
  {
   "cell_type": "markdown",
   "metadata": {},
   "source": [
    "**9**  Validating and Parsing Email Addresses"
   ]
  },
  {
   "cell_type": "code",
   "execution_count": null,
   "metadata": {},
   "outputs": [],
   "source": [
    "import re\n",
    "n = int(input())\n",
    "for i in range(n):\n",
    "    name,mail = input().split()\n",
    "    if bool(re.match(r\"^\\D[a-zA-Z0-9]+[-_.\\w\\d]*@[a-z]+[.][a-z]{1,3}>$\",mail)) == True:\n",
    "        print(name,mail)"
   ]
  },
  {
   "cell_type": "markdown",
   "metadata": {},
   "source": [
    "**10** Hex Color Code"
   ]
  },
  {
   "cell_type": "code",
   "execution_count": null,
   "metadata": {},
   "outputs": [],
   "source": [
    "import re\n",
    "a = []\n",
    "for i in range(int(input())):\n",
    "    a.extend((re.findall(r'#[a-fA-F0-9]+[;,)]',input())))   #to find hex\n",
    "for i in a:\n",
    "    print(i[:-1])\n"
   ]
  },
  {
   "cell_type": "markdown",
   "metadata": {},
   "source": [
    "**11** HTML 1"
   ]
  },
  {
   "cell_type": "code",
   "execution_count": null,
   "metadata": {},
   "outputs": [],
   "source": [
    "from html.parser import HTMLParser\n",
    "class MyHTMLParser(HTMLParser):\n",
    "    def handle_starttag(self, tag, attrs):        \n",
    "        print ('Start :',tag)\n",
    "        for ele in attrs:\n",
    "            print ('->',ele[0],'>',ele[1])\n",
    "            \n",
    "    def handle_endtag(self, tag):\n",
    "        print ('End   :',tag)\n",
    "        \n",
    "    def handle_startendtag(self, tag, attrs):\n",
    "        print ('Empty :',tag)\n",
    "        for ele in attrs:\n",
    "            print ('->',ele[0],'>',ele[1])\n",
    "            \n",
    "parser = MyHTMLParser()\n",
    "for _ in range(int(input())):\n",
    "    parser.feed(input())"
   ]
  },
  {
   "cell_type": "markdown",
   "metadata": {},
   "source": [
    "**12** HTML 2"
   ]
  },
  {
   "cell_type": "code",
   "execution_count": null,
   "metadata": {},
   "outputs": [],
   "source": [
    "from html.parser import HTMLParser\n",
    "\n",
    "\n",
    "class HtmlParser(HTMLParser):\n",
    "    def handle_comment(self, data):\n",
    "        if '\\n' in data or '\\r\\n' in data:\n",
    "            print('>>> Multi-line Comment')\n",
    "            print(data)\n",
    "        else:\n",
    "            print('>>> Single-line Comment')\n",
    "            print(data)\n",
    "\n",
    "    def handle_data(self, data):\n",
    "        if data != '\\n':\n",
    "            print(\">>> Data\")\n",
    "            print(data)\n",
    "\n",
    "\n",
    "html_parser = HtmlParser()\n",
    "html_parser.feed('\\n'.join([input() for _ in range(int(input()))]))\n",
    "html_parser.close()"
   ]
  },
  {
   "cell_type": "markdown",
   "metadata": {},
   "source": [
    "**13** Detect HTML Tags, Attributes and Attribute Values"
   ]
  },
  {
   "cell_type": "code",
   "execution_count": null,
   "metadata": {},
   "outputs": [],
   "source": [
    "from html.parser import HTMLParser\n",
    "class MyHTMLParser(HTMLParser):\n",
    "    def handle_starttag(self, tag, attrs):\n",
    "        print(tag)\n",
    "        [print('-> {} > {}'.format(*attr)) for attr in attrs] #print attr\n",
    "        \n",
    "html = '\\n'.join([input() for _ in range(int(input()))])\n",
    "parser = MyHTMLParser()\n",
    "parser.feed(html)\n",
    "parser.close()"
   ]
  },
  {
   "cell_type": "markdown",
   "metadata": {},
   "source": [
    "**14** Validating UID"
   ]
  },
  {
   "cell_type": "code",
   "execution_count": null,
   "metadata": {},
   "outputs": [],
   "source": [
    "import re\n",
    "for _ in range(int(input())):\n",
    "    s = input()\n",
    "    try:\n",
    "        assert re.search(r'[A-Za-z0-9]{10}',s) # to check is all charackters digit or alphabet\n",
    "        assert re.search(r'([A-Z].*){2}',s) # to find 2 upper alphaber\n",
    "        assert re.search(r'([0-9].*){3}',s) # to find 3 digit\n",
    "        assert not re.search(r'.*(.).*\\1', s) # to be sure that repitative does not exist found here: https://docs.python.org/3.2/library/re.html\n",
    "    except :\n",
    "        print(\"Invalid\")\n",
    "    else:\n",
    "        print(\"Valid\")"
   ]
  },
  {
   "cell_type": "markdown",
   "metadata": {},
   "source": [
    "**15** Validating Credit Card Numbers"
   ]
  },
  {
   "cell_type": "code",
   "execution_count": null,
   "metadata": {},
   "outputs": [],
   "source": [
    "import re\n",
    "for _ in range(int(input())):\n",
    "    s = input()\n",
    "    try:\n",
    "        assert re.match(r\"^[456]\",s)\n",
    "        assert len(s) == 16 or len(s) == 19\n",
    "        assert re.search(r'[0-9]{16}',s) or re.search(r'[0-9]{4}-[0-9]{4}-[0-9]{4}-[0-9]{4}',s)\n",
    "        if len(s) == 19:\n",
    "            assert not re.search(r'^.*(.)(\\1)(\\1).*$', s[:4]+s[5:9]+s[10:14]+s[15:19]) \n",
    "        else:\n",
    "            assert not re.search(r'^.*(.)(\\1)(\\1).*$', s) # \\1\\2\\3 this is appealing to the group \n",
    "    except :\n",
    "        print(\"Invalid\")\n",
    "    else:\n",
    "        print(\"Valid\")"
   ]
  },
  {
   "cell_type": "markdown",
   "metadata": {},
   "source": [
    "**16** Validating Postal Code"
   ]
  },
  {
   "cell_type": "code",
   "execution_count": null,
   "metadata": {},
   "outputs": [],
   "source": [
    "regex_integer_in_range = r\"^[0-9]{6}$\" # ^$-big.. and end the string\n",
    "regex_alternating_repetitive_digit_pair = r\"(\\d)(?=\\d\\1)\" # (\\d) do a group of one digit (?=\\d\\1) look back and try to find the same digit\n",
    "import re\n",
    "P = input()\n",
    "print (bool(re.match(regex_integer_in_range, P)) \n",
    "and len(re.findall(regex_alternating_repetitive_digit_pair, P)) < 2) \n",
    "\n",
    "\n",
    "# Second solution \n",
    "regex_integer_in_range = r\"^[0-9]{6}$\"\n",
    "regex_alternating_repetitive_digit_pair = r\"(?P<name>\\d)(?P=name)\"\n",
    "import re\n",
    "P = input()\n",
    "print (bool(re.match(regex_integer_in_range, P)) \n",
    "and len(re.findall(regex_alternating_repetitive_digit_pair, P)) < 2)\n",
    "\n",
    "\n"
   ]
  },
  {
   "cell_type": "markdown",
   "metadata": {},
   "source": [
    "**17** Matrix Script\n",
    "\n"
   ]
  },
  {
   "cell_type": "code",
   "execution_count": null,
   "metadata": {},
   "outputs": [],
   "source": [
    "import re\n",
    "n,m = map(int,input().split())\n",
    "l = []\n",
    "for i in range(n):\n",
    "    l.append(input()) #collect all columns\n",
    "\n",
    "s = \"\".join([\"\".join(i) for i in list(zip(*l))])   # list(zip(*l)) to do a list m touples with n elements \n",
    "#and join all tuples and create a nowmal string\n",
    "patern = re.compile(\"(\\w)(\\W+)(\\w)\") # (\\w)(\\W+)(\\w) alphabet then non aplhabet(and it could be a few) then alphabet \n",
    "print(patern.sub(r\"\\1 \\3\",s))           # substitute with 1 group and third group "
   ]
  },
  {
   "cell_type": "code",
   "execution_count": null,
   "metadata": {},
   "outputs": [],
   "source": [
    "# import re\n",
    "# n,m = map(int,input().split())\n",
    "# l = []\n",
    "# for i in range(n):\n",
    "#     l.append(input()) #collect all columns\n",
    "\n",
    "# s = \"\".join([\"\".join(i) for i in list(zip(*l))])   # list(zip(*l)) to do a list m touples with n elements \n",
    "# #and join all tuples and create a nowmal string\n",
    "# patern = re.compile(\"(?P<first>\\w)(?P<nonalpha>\\W+)(?P<third>\\w)\") # (\\w)(\\W+)(\\w) alphabet then non aplhabet(and it could be a few) then alphabet \n",
    "# print(patern.sub(r\"\\first \\third\",s))\n",
    "\n"
   ]
  },
  {
   "cell_type": "code",
   "execution_count": null,
   "metadata": {},
   "outputs": [],
   "source": [
    "# patern = re.compile(\"(?P<first>\\w)(?P<nonalpha>\\W)(?P<third>\\w+)\") # (\\w)(\\W+)(\\w) alphabet then non aplhabet(and it could be a few) then alphabet \n",
    "# print(patern.sub(r\"\\first \\third\",s))"
   ]
  },
  {
   "cell_type": "markdown",
   "metadata": {},
   "source": [
    "**XML**"
   ]
  },
  {
   "cell_type": "markdown",
   "metadata": {},
   "source": [
    "**1** XML 1 - Find the Score\n",
    "\n"
   ]
  },
  {
   "cell_type": "code",
   "execution_count": null,
   "metadata": {},
   "outputs": [],
   "source": [
    "import sys\n",
    "import xml.etree.ElementTree as etree\n",
    "#xml = ''.join(input() for _ in range(int(input())))\n",
    "def get_attr_number(node,s = 0):\n",
    "    #print(list(node.iter()))\n",
    "    for elem in node.iter():    # it will show u all  < ..tag.. >\n",
    "        #print(elem.items())\n",
    "        s += len(elem.items())  # elem.items show the attributes < ..tag.. attribute = \"something\" >\n",
    "    \n",
    "        \n",
    "    return s\n",
    "\n",
    "if __name__ == '__main__':\n",
    "    sys.stdin.readline()\n",
    "    xml = sys.stdin.read()\n",
    "    tree = etree.ElementTree(etree.fromstring(xml))\n",
    "    root = tree.getroot()\n",
    "    print(get_attr_number(root))"
   ]
  },
  {
   "cell_type": "markdown",
   "metadata": {},
   "source": [
    "**2** XML2 - Find the Maximum Depth"
   ]
  },
  {
   "cell_type": "code",
   "execution_count": null,
   "metadata": {},
   "outputs": [],
   "source": [
    "import xml.etree.ElementTree as etree\n",
    "\n",
    "maxdepth = 0\n",
    "def depth(elem, level): # it has to work with def depth(elem, level, maxdepth = 0) but no\n",
    "    global maxdepth\n",
    "\n",
    "    ch=[]\n",
    "    #print(list(elem.iter())) \n",
    "    for i in elem.iter():    # all < tag >\n",
    "        if len(i.getchildren()) > 0: #is there any child if yes then we take tag \n",
    "            ch.append(i.getchildren()[0].tag)    #append child tag\n",
    "    maxdepth=len(set(ch))\n",
    "if __name__ == '__main__':\n",
    "    n = int(input())\n",
    "    xml = \"\"\n",
    "    for i in range(n):\n",
    "        xml =  xml + input() + \"\\n\"\n",
    "    tree = etree.ElementTree(etree.fromstring(xml))\n",
    "    depth(tree.getroot(), -1)\n",
    "    print(maxdepth)"
   ]
  },
  {
   "cell_type": "markdown",
   "metadata": {},
   "source": [
    "**Closures and Decorations challenges**"
   ]
  },
  {
   "cell_type": "markdown",
   "metadata": {},
   "source": [
    "**1** Standardize Mobile Number Using Decorators"
   ]
  },
  {
   "cell_type": "code",
   "execution_count": null,
   "metadata": {},
   "outputs": [],
   "source": [
    "def wrapper(f):\n",
    "    def fun(l):\n",
    "        result = []\n",
    "        for i in range(len(l)):\n",
    "            result.append(\"+91 \" + l[i][-10:-5] + \" \" + l[i][-5:])\n",
    "        f(result)\n",
    "    return fun\n",
    "\n",
    "@wrapper\n",
    "def sort_phone(l):\n",
    "    print(*sorted(l), sep='\\n')\n",
    "\n",
    "if __name__ == '__main__':\n",
    "    l = [input() for _ in range(int(input()))]\n",
    "    sort_phone(l) \n"
   ]
  },
  {
   "cell_type": "markdown",
   "metadata": {},
   "source": [
    "**2** Decorators 2 - Name Directory"
   ]
  },
  {
   "cell_type": "code",
   "execution_count": null,
   "metadata": {},
   "outputs": [],
   "source": [
    "import operator\n",
    "\n",
    "def person_lister(f):\n",
    "    def inner(people):\n",
    "        people = sorted(people,key = lambda x: float(x[2])) # lambda function uses for sorting by age!\n",
    "        return map(f, people)                               #need to do a float because str doesnt sorted as float or int\n",
    "    return inner\n",
    "   \n",
    "@person_lister\n",
    "def name_format(person):\n",
    "    return (\"Mr. \" if person[3] == \"M\" else \"Ms. \") + person[0] + \" \" + person[1]\n",
    "\n",
    "if __name__ == '__main__':\n",
    "    people = [input().split() for i in range(int(input()))]\n",
    "    print(*name_format(people), sep='\\n')"
   ]
  },
  {
   "cell_type": "markdown",
   "metadata": {},
   "source": [
    "**Numpy**"
   ]
  },
  {
   "cell_type": "markdown",
   "metadata": {},
   "source": [
    "**1** Arrays\n",
    "\n"
   ]
  },
  {
   "cell_type": "code",
   "execution_count": null,
   "metadata": {},
   "outputs": [],
   "source": [
    "import numpy as np\n",
    "\n",
    "def arrays(arr):\n",
    "    return np.array(arr,dtype = float)[::-1]\n",
    "\n",
    "arr = input().strip().split(' ')\n",
    "result = arrays(arr)\n",
    "print(result)"
   ]
  },
  {
   "cell_type": "markdown",
   "metadata": {},
   "source": [
    "**2** Shape and Reshape"
   ]
  },
  {
   "cell_type": "code",
   "execution_count": null,
   "metadata": {},
   "outputs": [],
   "source": [
    "import numpy as np \n",
    "print(np.reshape(np.array(input().strip().split(),dtype = int),(3,3)))"
   ]
  },
  {
   "cell_type": "markdown",
   "metadata": {},
   "source": [
    "**3** Transpose and Flatten"
   ]
  },
  {
   "cell_type": "code",
   "execution_count": null,
   "metadata": {
    "scrolled": true
   },
   "outputs": [],
   "source": [
    "import numpy as np\n",
    "a = np.array([],dtype = int)\n",
    "n,m = map(int,input().strip().split())\n",
    "for i in range(n):\n",
    "    a = np.append(a, np.array(input().strip().split(),dtype = int))\n",
    "print(np.reshape(a,(n,m)).T)\n",
    "print(a.flatten())"
   ]
  },
  {
   "cell_type": "markdown",
   "metadata": {},
   "source": [
    "**4** Concatenate"
   ]
  },
  {
   "cell_type": "code",
   "execution_count": null,
   "metadata": {},
   "outputs": [],
   "source": [
    "import numpy as np \n",
    "n,m,p = map(int,input().strip().split())\n",
    "a = np.array([input().strip().split() for _ in range(n) ], dtype = int)\n",
    "b = np.array([input().strip().split() for _ in range(m) ], dtype = int)\n",
    "print(np.concatenate((a,b),axis = 0))"
   ]
  },
  {
   "cell_type": "markdown",
   "metadata": {},
   "source": [
    "**5** Zeros and Ones"
   ]
  },
  {
   "cell_type": "code",
   "execution_count": null,
   "metadata": {},
   "outputs": [],
   "source": [
    "import numpy as np\n",
    "size = tuple(map(int,input().strip().split()))\n",
    "print(np.zeros(size,dtype = int))\n",
    "print(np.ones(size,dtype = int))\n"
   ]
  },
  {
   "cell_type": "markdown",
   "metadata": {},
   "source": [
    "**6** Eye and Identity"
   ]
  },
  {
   "cell_type": "code",
   "execution_count": null,
   "metadata": {},
   "outputs": [],
   "source": [
    "import numpy as np\n",
    "n,m = map(int,input().strip().split())\n",
    "print(np.eye(n,m,dtype = float))"
   ]
  },
  {
   "cell_type": "markdown",
   "metadata": {},
   "source": [
    "**7** Array Mathematics"
   ]
  },
  {
   "cell_type": "code",
   "execution_count": null,
   "metadata": {},
   "outputs": [],
   "source": [
    "import numpy as np\n",
    "n,m = map(int, input().strip().split())\n",
    "a = np.array([input().strip().split() for _ in range(n)],dtype = int)\n",
    "b = np.array([input().strip().split() for _ in range(n)],dtype = int)\n",
    "print(np.add(a, b,dtype = int))\n",
    "print(np.subtract(a, b,dtype = int))\n",
    "print(np.multiply(a, b,dtype = int))\n",
    "print(np.divide(a, b))\n",
    "print(np.mod(a, b,dtype = int))\n",
    "print(np.power(a, b,dtype = int))\n"
   ]
  },
  {
   "cell_type": "markdown",
   "metadata": {},
   "source": [
    "**8** Floor, Ceil and Rint\n",
    "\n"
   ]
  },
  {
   "cell_type": "code",
   "execution_count": null,
   "metadata": {},
   "outputs": [],
   "source": [
    "import numpy as np\n",
    "np.set_printoptions(sign=' ') # to have appropriate output\n",
    "n = np.array(list(map(float,input().strip().split())))\n",
    "print(np.floor(n),np.ceil(n),np.rint(n),sep = \"\\n\")"
   ]
  },
  {
   "cell_type": "markdown",
   "metadata": {},
   "source": [
    "**9** Sum and Prod"
   ]
  },
  {
   "cell_type": "code",
   "execution_count": null,
   "metadata": {},
   "outputs": [],
   "source": [
    "import numpy as np \n",
    "n,m = map(int,input().strip().split())\n",
    "a = np.array([input().strip().split() for _ in range(n) ], dtype = int)\n",
    "print(np.prod(np.sum(a,axis = 0)))\n"
   ]
  },
  {
   "cell_type": "markdown",
   "metadata": {},
   "source": [
    "**10** Min and max"
   ]
  },
  {
   "cell_type": "code",
   "execution_count": null,
   "metadata": {},
   "outputs": [],
   "source": [
    "import numpy as np \n",
    "n,m = map(int,input().strip().split())\n",
    "a = np.array([input().strip().split() for _ in range(n) ], dtype = int)\n",
    "print(np.max(np.min(a,axis = 1)))\n"
   ]
  },
  {
   "cell_type": "markdown",
   "metadata": {},
   "source": [
    "**11** Mean Var Std"
   ]
  },
  {
   "cell_type": "code",
   "execution_count": null,
   "metadata": {},
   "outputs": [],
   "source": [
    "import numpy as np\n",
    "np.set_printoptions(sign=' ') # to have appropriate output\n",
    "n,m = map(int,input().strip().split())\n",
    "a = np.array([input().strip().split() for _ in range(n) ], dtype = int)\n",
    "print(np.mean(a,axis = 1))\n",
    "print(np.var(a,axis = 0))\n",
    "print(np.std(a,axis = None))\n"
   ]
  },
  {
   "cell_type": "markdown",
   "metadata": {},
   "source": [
    "**12** Dot and cross"
   ]
  },
  {
   "cell_type": "code",
   "execution_count": null,
   "metadata": {},
   "outputs": [],
   "source": [
    "import numpy as np\n",
    "np.set_printoptions(sign=' ')\n",
    "n = int(input())\n",
    "a = np.array([input().strip().split() for _ in range(n)],dtype = int)\n",
    "b = np.array([input().strip().split() for _ in range(n)],dtype = int)\n",
    "print(np.dot(a,b))\n"
   ]
  },
  {
   "cell_type": "markdown",
   "metadata": {},
   "source": [
    "**13** Inner Outer"
   ]
  },
  {
   "cell_type": "code",
   "execution_count": null,
   "metadata": {},
   "outputs": [],
   "source": [
    "import numpy as np\n",
    "np.set_printoptions(sign=' ')\n",
    "a = np.array([input().strip().split() for _ in range(1)],dtype = int)\n",
    "b = np.array([input().strip().split() for _ in range(1)],dtype = int)\n",
    "print(np.inner(a,b)[0][0])\n",
    "print(np.outer(a,b))"
   ]
  },
  {
   "cell_type": "markdown",
   "metadata": {},
   "source": [
    "**14** Linear Algebra"
   ]
  },
  {
   "cell_type": "code",
   "execution_count": null,
   "metadata": {},
   "outputs": [],
   "source": [
    "import numpy as np\n",
    "np.set_printoptions(legacy='1.13')\n",
    "n=int(input())\n",
    "a=np.array([input().split() for _ in range(n)],float)\n",
    "print(numpy.linalg.det(a))"
   ]
  },
  {
   "cell_type": "markdown",
   "metadata": {},
   "source": [
    "**15** Polynomials"
   ]
  },
  {
   "cell_type": "code",
   "execution_count": null,
   "metadata": {},
   "outputs": [],
   "source": [
    "import numpy as np\n",
    "print(np.polyval(list(map(float,input().split())), int(input())))"
   ]
  },
  {
   "cell_type": "markdown",
   "metadata": {},
   "source": [
    "**Problem 2**\n"
   ]
  },
  {
   "cell_type": "markdown",
   "metadata": {},
   "source": [
    "**Birthday Cake Candles**\n",
    "\n"
   ]
  },
  {
   "cell_type": "code",
   "execution_count": null,
   "metadata": {},
   "outputs": [],
   "source": [
    "import math\n",
    "import os\n",
    "import random\n",
    "import re\n",
    "import sys\n",
    "\n",
    "# Complete the birthdayCakeCandles function below.\n",
    "def birthdayCakeCandles(ar):\n",
    "    return ar.count(max(ar))\n",
    "\n",
    "\n",
    "if __name__ == '__main__':\n",
    "    fptr = open(os.environ['OUTPUT_PATH'], 'w')\n",
    "\n",
    "    ar_count = int(input())\n",
    "\n",
    "    ar = list(map(int, input().rstrip().split()))\n",
    "\n",
    "    result = birthdayCakeCandles(ar)\n",
    "\n",
    "    fptr.write(str(result) + '\\n')\n",
    "\n",
    "    fptr.close()\n"
   ]
  },
  {
   "cell_type": "markdown",
   "metadata": {},
   "source": [
    "**Kangaroo**\n",
    "\n"
   ]
  },
  {
   "cell_type": "code",
   "execution_count": null,
   "metadata": {},
   "outputs": [],
   "source": [
    "import math\n",
    "import os\n",
    "import random\n",
    "import re\n",
    "import sys\n",
    "\n",
    "# Complete the kangaroo function below.\n",
    "def kangaroo(x1, v1, x2, v2):\n",
    "    if v1 == v2 and x1 != x2:  #to prevent division by 0\n",
    "        return \"NO\"      \n",
    "    elif int((x2-x1)/(v1-v2)) == (x2-x1)/(v1-v2) and int((x2-x1)/(v1-v2)) > 0: #x1 + v1n ?== x2 + v2n\n",
    "        return \"YES\"  \n",
    "    else:\n",
    "        return \"NO\"\n",
    "    \n",
    "if __name__ == '__main__':\n",
    "    fptr = open(os.environ['OUTPUT_PATH'], 'w')\n",
    "\n",
    "    x1V1X2V2 = input().split()\n",
    "\n",
    "    x1 = int(x1V1X2V2[0])\n",
    "\n",
    "    v1 = int(x1V1X2V2[1])\n",
    "\n",
    "    x2 = int(x1V1X2V2[2])\n",
    "\n",
    "    v2 = int(x1V1X2V2[3])\n",
    "\n",
    "    result = kangaroo(x1, v1, x2, v2)\n",
    "\n",
    "    fptr.write(result + '\\n')\n",
    "\n",
    "    fptr.close()"
   ]
  },
  {
   "cell_type": "markdown",
   "metadata": {},
   "source": [
    "**Viral Advertising**"
   ]
  },
  {
   "cell_type": "code",
   "execution_count": null,
   "metadata": {},
   "outputs": [],
   "source": [
    "import math\n",
    "import os\n",
    "import random\n",
    "import re\n",
    "import sys\n",
    "\n",
    "# Complete the viralAdvertising function below.\n",
    "def viralAdvertising(n):\n",
    "    a = []\n",
    "    people = 5\n",
    "    for i in range(n):\n",
    "        a.append(int(people/2))\n",
    "        people = int(people/2) * 3\n",
    "        print(people)\n",
    "    return sum(a)\n",
    "if __name__ == '__main__':\n",
    "    fptr = open(os.environ['OUTPUT_PATH'], 'w')\n",
    "\n",
    "    n = int(input())\n",
    "\n",
    "    result = viralAdvertising(n)\n",
    "\n",
    "    fptr.write(str(result) + '\\n')\n",
    "\n",
    "    fptr.close()"
   ]
  },
  {
   "cell_type": "markdown",
   "metadata": {},
   "source": [
    "**Recursive Digit Sum**"
   ]
  },
  {
   "cell_type": "code",
   "execution_count": null,
   "metadata": {},
   "outputs": [],
   "source": [
    "import math\n",
    "import os\n",
    "import random\n",
    "import re\n",
    "import sys\n",
    "\n",
    "# Complete the superDigit function below.\n",
    "def superDigit(n, k):\n",
    "    p = (sum(map(int,list(n))))\n",
    "    p = str(p*k)  #because the number is repeated k times we need just product the sum of initial sum on k\n",
    "    while len(p) != 1:\n",
    "        p = str(sum(map(int,list(p))))\n",
    "    return int(p)  \n",
    "if __name__ == '__main__':\n",
    "    fptr = open(os.environ['OUTPUT_PATH'], 'w')\n",
    "\n",
    "    nk = input().split()\n",
    "\n",
    "    n = nk[0]\n",
    "\n",
    "    k = int(nk[1])\n",
    "\n",
    "    result = superDigit(n, k)\n",
    "\n",
    "    fptr.write(str(result) + '\\n')\n",
    "\n",
    "    fptr.close()\n"
   ]
  },
  {
   "cell_type": "markdown",
   "metadata": {},
   "source": [
    "**Insertion Sort - Part 1**"
   ]
  },
  {
   "cell_type": "code",
   "execution_count": null,
   "metadata": {},
   "outputs": [],
   "source": [
    "#!/bin/python3\n",
    "\n",
    "import math\n",
    "import os\n",
    "import random\n",
    "import re\n",
    "import sys\n",
    "\n",
    "# Complete the insertionSort1 function below.\n",
    "def insertionSort1(n, arr):\n",
    "    n = n-1\n",
    "    for i,item in reversed(list(enumerate(arr))):     # i need inversed indexes\n",
    "        if arr[n] < arr[i-1] and i != 0:              # to prevent the errors\n",
    "            print(*arr[:n] + [arr[i-1]] +arr[n+1:])   # to do the right output with missing the moving element\n",
    "            arr[n],arr[i-1] = arr[i-1],arr[n]         # to sort the massive\n",
    "            n -= 1  \n",
    "    print(*arr)\n",
    "    return\n",
    "if __name__ == '__main__':\n",
    "    n = int(input())\n",
    "\n",
    "    arr = list(map(int, input().rstrip().split()))\n",
    "\n",
    "    insertionSort1(n, arr)"
   ]
  },
  {
   "cell_type": "markdown",
   "metadata": {},
   "source": [
    "**Insertion Sort - Part 2**"
   ]
  },
  {
   "cell_type": "code",
   "execution_count": null,
   "metadata": {},
   "outputs": [],
   "source": [
    "#!/bin/python3\n",
    "\n",
    "import math\n",
    "import os\n",
    "import random\n",
    "import re\n",
    "import sys\n",
    "\n",
    "# Complete the insertionSort2 function below.\n",
    "def insertionSort2(ind, arr):\n",
    "    idx = ind\n",
    "    if any(arr[ind] < arr[i] for i in range(ind-1,-1,-1) ):\n",
    "        for i in range(ind-1,-1,-1):\n",
    "    \n",
    "            if arr[idx] < arr[i]:\n",
    "                arr[idx],arr[i] = arr[i],arr[idx]\n",
    "                idx = i\n",
    "            else :\n",
    "                ind += 1\n",
    "                print(*arr)\n",
    "                return arr,ind\n",
    "\n",
    "    print(*arr)\n",
    "    ind += 1\n",
    "    return arr,ind\n",
    "ind = 1      \n",
    "\n",
    "    \n",
    "if __name__ == '__main__':\n",
    "    n = int(input())\n",
    "\n",
    "    arr = list(map(int, input().rstrip().split()))\n",
    "\n",
    "    while len(arr) > ind:\n",
    "        arr,ind = insertionSort2(ind, arr)\n",
    "\n",
    "    \n",
    "    "
   ]
  },
  {
   "cell_type": "code",
   "execution_count": null,
   "metadata": {},
   "outputs": [],
   "source": []
  },
  {
   "cell_type": "code",
   "execution_count": null,
   "metadata": {},
   "outputs": [],
   "source": []
  }
 ],
 "metadata": {
  "kernelspec": {
   "display_name": "Python 3",
   "language": "python",
   "name": "python3"
  },
  "language_info": {
   "codemirror_mode": {
    "name": "ipython",
    "version": 3
   },
   "file_extension": ".py",
   "mimetype": "text/x-python",
   "name": "python",
   "nbconvert_exporter": "python",
   "pygments_lexer": "ipython3",
   "version": "3.7.3"
  }
 },
 "nbformat": 4,
 "nbformat_minor": 2
}
